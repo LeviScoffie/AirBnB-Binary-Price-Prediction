{
 "cells": [
  {
   "cell_type": "code",
   "execution_count": 1,
   "id": "7c4c0286",
   "metadata": {
    "_cell_guid": "b1076dfc-b9ad-4769-8c92-a6c4dae69d19",
    "_uuid": "8f2839f25d086af736a60e9eeb907d3b93b6e0e5",
    "execution": {
     "iopub.execute_input": "2021-11-22T19:31:59.197480Z",
     "iopub.status.busy": "2021-11-22T19:31:59.196787Z",
     "iopub.status.idle": "2021-11-22T19:31:59.210646Z",
     "shell.execute_reply": "2021-11-22T19:31:59.211603Z",
     "shell.execute_reply.started": "2021-11-22T12:20:20.742844Z"
    },
    "papermill": {
     "duration": 0.06475,
     "end_time": "2021-11-22T19:31:59.212047",
     "exception": false,
     "start_time": "2021-11-22T19:31:59.147297",
     "status": "completed"
    },
    "tags": []
   },
   "outputs": [
    {
     "name": "stdout",
     "output_type": "stream",
     "text": [
      "/kaggle/input/new-york-city-airbnb-open-data/AB_NYC_2019.csv\n",
      "/kaggle/input/new-york-city-airbnb-open-data/New_York_City_.png\n"
     ]
    }
   ],
   "source": [
    "# This Python 3 environment comes with many helpful analytics libraries installed\n",
    "# It is defined by the kaggle/python Docker image: https://github.com/kaggle/docker-python\n",
    "# For example, here's several helpful packages to load\n",
    "\n",
    "import numpy as np # linear algebra\n",
    "import pandas as pd # data processing, CSV file I/O (e.g. pd.read_csv)\n",
    "\n",
    "# Input data files are available in the read-only \"../input/\" directory\n",
    "# For example, running this (by clicking run or pressing Shift+Enter) will list all files under the input directory\n",
    "\n",
    "import os\n",
    "for dirname, _, filenames in os.walk('/kaggle/input'):\n",
    "    for filename in filenames:\n",
    "        print(os.path.join(dirname, filename))\n",
    "\n",
    "# You can write up to 20GB to the current directory (/kaggle/working/) that gets preserved as output when you create a version using \"Save & Run All\" \n",
    "# You can also write temporary files to /kaggle/temp/, but they won't be saved outside of the current session"
   ]
  },
  {
   "cell_type": "code",
   "execution_count": 2,
   "id": "eb984f02",
   "metadata": {
    "execution": {
     "iopub.execute_input": "2021-11-22T19:31:59.296523Z",
     "iopub.status.busy": "2021-11-22T19:31:59.295858Z",
     "iopub.status.idle": "2021-11-22T19:32:00.122158Z",
     "shell.execute_reply": "2021-11-22T19:32:00.123418Z",
     "shell.execute_reply.started": "2021-11-22T12:20:20.758871Z"
    },
    "papermill": {
     "duration": 0.871721,
     "end_time": "2021-11-22T19:32:00.123730",
     "exception": false,
     "start_time": "2021-11-22T19:31:59.252009",
     "status": "completed"
    },
    "tags": []
   },
   "outputs": [],
   "source": [
    "%matplotlib inline\n",
    "\n",
    "import matplotlib.pyplot as plt\n",
    "import seaborn as sns\n",
    "\n",
    "\n",
    "import warnings\n",
    "warnings.filterwarnings('ignore')"
   ]
  },
  {
   "cell_type": "code",
   "execution_count": 3,
   "id": "6668920e",
   "metadata": {
    "execution": {
     "iopub.execute_input": "2021-11-22T19:32:00.223573Z",
     "iopub.status.busy": "2021-11-22T19:32:00.222960Z",
     "iopub.status.idle": "2021-11-22T19:32:00.226858Z",
     "shell.execute_reply": "2021-11-22T19:32:00.227293Z",
     "shell.execute_reply.started": "2021-11-22T12:20:20.770939Z"
    },
    "papermill": {
     "duration": 0.051252,
     "end_time": "2021-11-22T19:32:00.227463",
     "exception": false,
     "start_time": "2021-11-22T19:32:00.176211",
     "status": "completed"
    },
    "tags": []
   },
   "outputs": [],
   "source": [
    "features= ['neighbourhood_group',\n",
    "'room_type',\n",
    "'latitude',\n",
    "'longitude',\n",
    "'price',\n",
    "'minimum_nights',\n",
    "'number_of_reviews',\n",
    "'reviews_per_month',\n",
    "'calculated_host_listings_count',\n",
    "'availability_365']"
   ]
  },
  {
   "cell_type": "code",
   "execution_count": 4,
   "id": "36e58be0",
   "metadata": {
    "execution": {
     "iopub.execute_input": "2021-11-22T19:32:00.305083Z",
     "iopub.status.busy": "2021-11-22T19:32:00.304413Z",
     "iopub.status.idle": "2021-11-22T19:32:00.540173Z",
     "shell.execute_reply": "2021-11-22T19:32:00.539693Z",
     "shell.execute_reply.started": "2021-11-22T12:20:20.785175Z"
    },
    "papermill": {
     "duration": 0.2751,
     "end_time": "2021-11-22T19:32:00.540315",
     "exception": false,
     "start_time": "2021-11-22T19:32:00.265215",
     "status": "completed"
    },
    "tags": []
   },
   "outputs": [
    {
     "data": {
      "text/html": [
       "<div>\n",
       "<style scoped>\n",
       "    .dataframe tbody tr th:only-of-type {\n",
       "        vertical-align: middle;\n",
       "    }\n",
       "\n",
       "    .dataframe tbody tr th {\n",
       "        vertical-align: top;\n",
       "    }\n",
       "\n",
       "    .dataframe thead th {\n",
       "        text-align: right;\n",
       "    }\n",
       "</style>\n",
       "<table border=\"1\" class=\"dataframe\">\n",
       "  <thead>\n",
       "    <tr style=\"text-align: right;\">\n",
       "      <th></th>\n",
       "      <th>neighbourhood_group</th>\n",
       "      <th>latitude</th>\n",
       "      <th>longitude</th>\n",
       "      <th>room_type</th>\n",
       "      <th>price</th>\n",
       "      <th>minimum_nights</th>\n",
       "      <th>number_of_reviews</th>\n",
       "      <th>reviews_per_month</th>\n",
       "      <th>calculated_host_listings_count</th>\n",
       "      <th>availability_365</th>\n",
       "    </tr>\n",
       "  </thead>\n",
       "  <tbody>\n",
       "    <tr>\n",
       "      <th>0</th>\n",
       "      <td>Brooklyn</td>\n",
       "      <td>40.64749</td>\n",
       "      <td>-73.97237</td>\n",
       "      <td>Private room</td>\n",
       "      <td>149</td>\n",
       "      <td>1</td>\n",
       "      <td>9</td>\n",
       "      <td>0.21</td>\n",
       "      <td>6</td>\n",
       "      <td>365</td>\n",
       "    </tr>\n",
       "    <tr>\n",
       "      <th>1</th>\n",
       "      <td>Manhattan</td>\n",
       "      <td>40.75362</td>\n",
       "      <td>-73.98377</td>\n",
       "      <td>Entire home/apt</td>\n",
       "      <td>225</td>\n",
       "      <td>1</td>\n",
       "      <td>45</td>\n",
       "      <td>0.38</td>\n",
       "      <td>2</td>\n",
       "      <td>355</td>\n",
       "    </tr>\n",
       "    <tr>\n",
       "      <th>2</th>\n",
       "      <td>Manhattan</td>\n",
       "      <td>40.80902</td>\n",
       "      <td>-73.94190</td>\n",
       "      <td>Private room</td>\n",
       "      <td>150</td>\n",
       "      <td>3</td>\n",
       "      <td>0</td>\n",
       "      <td>NaN</td>\n",
       "      <td>1</td>\n",
       "      <td>365</td>\n",
       "    </tr>\n",
       "    <tr>\n",
       "      <th>3</th>\n",
       "      <td>Brooklyn</td>\n",
       "      <td>40.68514</td>\n",
       "      <td>-73.95976</td>\n",
       "      <td>Entire home/apt</td>\n",
       "      <td>89</td>\n",
       "      <td>1</td>\n",
       "      <td>270</td>\n",
       "      <td>4.64</td>\n",
       "      <td>1</td>\n",
       "      <td>194</td>\n",
       "    </tr>\n",
       "    <tr>\n",
       "      <th>4</th>\n",
       "      <td>Manhattan</td>\n",
       "      <td>40.79851</td>\n",
       "      <td>-73.94399</td>\n",
       "      <td>Entire home/apt</td>\n",
       "      <td>80</td>\n",
       "      <td>10</td>\n",
       "      <td>9</td>\n",
       "      <td>0.10</td>\n",
       "      <td>1</td>\n",
       "      <td>0</td>\n",
       "    </tr>\n",
       "  </tbody>\n",
       "</table>\n",
       "</div>"
      ],
      "text/plain": [
       "  neighbourhood_group  latitude  longitude        room_type  price  \\\n",
       "0            Brooklyn  40.64749  -73.97237     Private room    149   \n",
       "1           Manhattan  40.75362  -73.98377  Entire home/apt    225   \n",
       "2           Manhattan  40.80902  -73.94190     Private room    150   \n",
       "3            Brooklyn  40.68514  -73.95976  Entire home/apt     89   \n",
       "4           Manhattan  40.79851  -73.94399  Entire home/apt     80   \n",
       "\n",
       "   minimum_nights  number_of_reviews  reviews_per_month  \\\n",
       "0               1                  9               0.21   \n",
       "1               1                 45               0.38   \n",
       "2               3                  0                NaN   \n",
       "3               1                270               4.64   \n",
       "4              10                  9               0.10   \n",
       "\n",
       "   calculated_host_listings_count  availability_365  \n",
       "0                               6               365  \n",
       "1                               2               355  \n",
       "2                               1               365  \n",
       "3                               1               194  \n",
       "4                               1                 0  "
      ]
     },
     "execution_count": 4,
     "metadata": {},
     "output_type": "execute_result"
    }
   ],
   "source": [
    "df=pd.read_csv(r'/kaggle/input/new-york-city-airbnb-open-data/AB_NYC_2019.csv', usecols=features)\n",
    "\n",
    "df.head()"
   ]
  },
  {
   "cell_type": "code",
   "execution_count": 5,
   "id": "3788b1a6",
   "metadata": {
    "execution": {
     "iopub.execute_input": "2021-11-22T19:32:00.621428Z",
     "iopub.status.busy": "2021-11-22T19:32:00.620804Z",
     "iopub.status.idle": "2021-11-22T19:32:00.623085Z",
     "shell.execute_reply": "2021-11-22T19:32:00.623507Z",
     "shell.execute_reply.started": "2021-11-22T12:20:20.928776Z"
    },
    "papermill": {
     "duration": 0.04536,
     "end_time": "2021-11-22T19:32:00.623679",
     "exception": false,
     "start_time": "2021-11-22T19:32:00.578319",
     "status": "completed"
    },
    "tags": []
   },
   "outputs": [
    {
     "name": "stdout",
     "output_type": "stream",
     "text": [
      "(48895, 10)\n"
     ]
    }
   ],
   "source": [
    "print(df.shape)"
   ]
  },
  {
   "cell_type": "code",
   "execution_count": 6,
   "id": "4c541868",
   "metadata": {
    "execution": {
     "iopub.execute_input": "2021-11-22T19:32:00.761048Z",
     "iopub.status.busy": "2021-11-22T19:32:00.760093Z",
     "iopub.status.idle": "2021-11-22T19:32:00.773171Z",
     "shell.execute_reply": "2021-11-22T19:32:00.773578Z",
     "shell.execute_reply.started": "2021-11-22T12:20:20.935970Z"
    },
    "papermill": {
     "duration": 0.111767,
     "end_time": "2021-11-22T19:32:00.773764",
     "exception": false,
     "start_time": "2021-11-22T19:32:00.661997",
     "status": "completed"
    },
    "tags": []
   },
   "outputs": [
    {
     "data": {
      "text/plain": [
       "neighbourhood_group                   0\n",
       "latitude                              0\n",
       "longitude                             0\n",
       "room_type                             0\n",
       "price                                 0\n",
       "minimum_nights                        0\n",
       "number_of_reviews                     0\n",
       "reviews_per_month                 10052\n",
       "calculated_host_listings_count        0\n",
       "availability_365                      0\n",
       "dtype: int64"
      ]
     },
     "execution_count": 6,
     "metadata": {},
     "output_type": "execute_result"
    }
   ],
   "source": [
    "df.isnull().sum()"
   ]
  },
  {
   "cell_type": "code",
   "execution_count": 7,
   "id": "3de9dc0f",
   "metadata": {
    "execution": {
     "iopub.execute_input": "2021-11-22T19:32:00.852313Z",
     "iopub.status.busy": "2021-11-22T19:32:00.851190Z",
     "iopub.status.idle": "2021-11-22T19:32:00.861805Z",
     "shell.execute_reply": "2021-11-22T19:32:00.862260Z",
     "shell.execute_reply.started": "2021-11-22T12:20:20.965405Z"
    },
    "papermill": {
     "duration": 0.051468,
     "end_time": "2021-11-22T19:32:00.862445",
     "exception": false,
     "start_time": "2021-11-22T19:32:00.810977",
     "status": "completed"
    },
    "tags": []
   },
   "outputs": [],
   "source": [
    "df=df.fillna(0)"
   ]
  },
  {
   "cell_type": "code",
   "execution_count": 8,
   "id": "e42abe68",
   "metadata": {
    "execution": {
     "iopub.execute_input": "2021-11-22T19:32:00.944319Z",
     "iopub.status.busy": "2021-11-22T19:32:00.943390Z",
     "iopub.status.idle": "2021-11-22T19:32:00.955110Z",
     "shell.execute_reply": "2021-11-22T19:32:00.955511Z",
     "shell.execute_reply.started": "2021-11-22T12:20:20.986383Z"
    },
    "papermill": {
     "duration": 0.053982,
     "end_time": "2021-11-22T19:32:00.955693",
     "exception": false,
     "start_time": "2021-11-22T19:32:00.901711",
     "status": "completed"
    },
    "tags": []
   },
   "outputs": [
    {
     "data": {
      "text/plain": [
       "neighbourhood_group               0\n",
       "latitude                          0\n",
       "longitude                         0\n",
       "room_type                         0\n",
       "price                             0\n",
       "minimum_nights                    0\n",
       "number_of_reviews                 0\n",
       "reviews_per_month                 0\n",
       "calculated_host_listings_count    0\n",
       "availability_365                  0\n",
       "dtype: int64"
      ]
     },
     "execution_count": 8,
     "metadata": {},
     "output_type": "execute_result"
    }
   ],
   "source": [
    "df.isnull().sum()"
   ]
  },
  {
   "cell_type": "markdown",
   "id": "434e0194",
   "metadata": {
    "papermill": {
     "duration": 0.038446,
     "end_time": "2021-11-22T19:32:01.031989",
     "exception": false,
     "start_time": "2021-11-22T19:32:00.993543",
     "status": "completed"
    },
    "tags": []
   },
   "source": [
    "## Question 1\n",
    "What is the most frequent observation (mode) for the column `neighbourhood_group`?\n",
    "\n",
    "### Frequent Values"
   ]
  },
  {
   "cell_type": "code",
   "execution_count": 9,
   "id": "df849f1e",
   "metadata": {
    "execution": {
     "iopub.execute_input": "2021-11-22T19:32:01.123849Z",
     "iopub.status.busy": "2021-11-22T19:32:01.116701Z",
     "iopub.status.idle": "2021-11-22T19:32:01.150783Z",
     "shell.execute_reply": "2021-11-22T19:32:01.151249Z",
     "shell.execute_reply.started": "2021-11-22T12:20:21.011720Z"
    },
    "papermill": {
     "duration": 0.078452,
     "end_time": "2021-11-22T19:32:01.151419",
     "exception": false,
     "start_time": "2021-11-22T19:32:01.072967",
     "status": "completed"
    },
    "tags": []
   },
   "outputs": [
    {
     "data": {
      "text/html": [
       "<div>\n",
       "<style scoped>\n",
       "    .dataframe tbody tr th:only-of-type {\n",
       "        vertical-align: middle;\n",
       "    }\n",
       "\n",
       "    .dataframe tbody tr th {\n",
       "        vertical-align: top;\n",
       "    }\n",
       "\n",
       "    .dataframe thead th {\n",
       "        text-align: right;\n",
       "    }\n",
       "</style>\n",
       "<table border=\"1\" class=\"dataframe\">\n",
       "  <thead>\n",
       "    <tr style=\"text-align: right;\">\n",
       "      <th></th>\n",
       "      <th>neighbourhood_group</th>\n",
       "      <th>room_type</th>\n",
       "    </tr>\n",
       "  </thead>\n",
       "  <tbody>\n",
       "    <tr>\n",
       "      <th>count</th>\n",
       "      <td>48895</td>\n",
       "      <td>48895</td>\n",
       "    </tr>\n",
       "    <tr>\n",
       "      <th>unique</th>\n",
       "      <td>5</td>\n",
       "      <td>3</td>\n",
       "    </tr>\n",
       "    <tr>\n",
       "      <th>top</th>\n",
       "      <td>Manhattan</td>\n",
       "      <td>Entire home/apt</td>\n",
       "    </tr>\n",
       "    <tr>\n",
       "      <th>freq</th>\n",
       "      <td>21661</td>\n",
       "      <td>25409</td>\n",
       "    </tr>\n",
       "  </tbody>\n",
       "</table>\n",
       "</div>"
      ],
      "text/plain": [
       "       neighbourhood_group        room_type\n",
       "count                48895            48895\n",
       "unique                   5                3\n",
       "top              Manhattan  Entire home/apt\n",
       "freq                 21661            25409"
      ]
     },
     "execution_count": 9,
     "metadata": {},
     "output_type": "execute_result"
    }
   ],
   "source": [
    "df.describe(include=['O'])"
   ]
  },
  {
   "cell_type": "code",
   "execution_count": 10,
   "id": "bb38019f",
   "metadata": {
    "execution": {
     "iopub.execute_input": "2021-11-22T19:32:01.233424Z",
     "iopub.status.busy": "2021-11-22T19:32:01.232517Z",
     "iopub.status.idle": "2021-11-22T19:32:01.241150Z",
     "shell.execute_reply": "2021-11-22T19:32:01.241556Z",
     "shell.execute_reply.started": "2021-11-22T12:20:21.055857Z"
    },
    "papermill": {
     "duration": 0.050432,
     "end_time": "2021-11-22T19:32:01.241743",
     "exception": false,
     "start_time": "2021-11-22T19:32:01.191311",
     "status": "completed"
    },
    "tags": []
   },
   "outputs": [
    {
     "data": {
      "text/plain": [
       "0    Manhattan\n",
       "dtype: object"
      ]
     },
     "execution_count": 10,
     "metadata": {},
     "output_type": "execute_result"
    }
   ],
   "source": [
    "df.neighbourhood_group.mode()"
   ]
  },
  {
   "cell_type": "markdown",
   "id": "7f6871d4",
   "metadata": {
    "papermill": {
     "duration": 0.038131,
     "end_time": "2021-11-22T19:32:01.318701",
     "exception": false,
     "start_time": "2021-11-22T19:32:01.280570",
     "status": "completed"
    },
    "tags": []
   },
   "source": [
    "## Answer for Question 1=='Manhattan'"
   ]
  },
  {
   "cell_type": "markdown",
   "id": "3ef29be4",
   "metadata": {
    "papermill": {
     "duration": 0.038247,
     "end_time": "2021-11-22T19:32:01.395162",
     "exception": false,
     "start_time": "2021-11-22T19:32:01.356915",
     "status": "completed"
    },
    "tags": []
   },
   "source": [
    "## Split the data\n",
    "* Split your data in train/val/test sets, with 60%/20%/20% distribution.\n",
    "* Use Scikit-Learn for that (the train_test_split function) and set the seed to 42.\n",
    "* Make sure that the target value ('price') is not in your dataframe.\n"
   ]
  },
  {
   "cell_type": "markdown",
   "id": "6bd2c86d",
   "metadata": {
    "papermill": {
     "duration": 0.038073,
     "end_time": "2021-11-22T19:32:01.471627",
     "exception": false,
     "start_time": "2021-11-22T19:32:01.433554",
     "status": "completed"
    },
    "tags": []
   },
   "source": [
    "## Question 2\n",
    "* Create the [correlation matrix](https://www.google.com/search?q=correlation+matrix) for the numerical features of your train dataset.\n",
    "     * In a correlation matrix, you compute the correlation coefficient between every pair of features in the dataset.\n",
    "* What are the two features that have the biggest correlation in this dataset?"
   ]
  },
  {
   "cell_type": "code",
   "execution_count": 11,
   "id": "c4f5c9b2",
   "metadata": {
    "execution": {
     "iopub.execute_input": "2021-11-22T19:32:01.553977Z",
     "iopub.status.busy": "2021-11-22T19:32:01.553303Z",
     "iopub.status.idle": "2021-11-22T19:32:01.617708Z",
     "shell.execute_reply": "2021-11-22T19:32:01.617226Z",
     "shell.execute_reply.started": "2021-11-22T12:20:21.071120Z"
    },
    "papermill": {
     "duration": 0.107671,
     "end_time": "2021-11-22T19:32:01.617857",
     "exception": false,
     "start_time": "2021-11-22T19:32:01.510186",
     "status": "completed"
    },
    "tags": []
   },
   "outputs": [
    {
     "data": {
      "text/html": [
       "<div>\n",
       "<style scoped>\n",
       "    .dataframe tbody tr th:only-of-type {\n",
       "        vertical-align: middle;\n",
       "    }\n",
       "\n",
       "    .dataframe tbody tr th {\n",
       "        vertical-align: top;\n",
       "    }\n",
       "\n",
       "    .dataframe thead th {\n",
       "        text-align: right;\n",
       "    }\n",
       "</style>\n",
       "<table border=\"1\" class=\"dataframe\">\n",
       "  <thead>\n",
       "    <tr style=\"text-align: right;\">\n",
       "      <th></th>\n",
       "      <th>latitude</th>\n",
       "      <th>longitude</th>\n",
       "      <th>price</th>\n",
       "      <th>minimum_nights</th>\n",
       "      <th>number_of_reviews</th>\n",
       "      <th>reviews_per_month</th>\n",
       "      <th>calculated_host_listings_count</th>\n",
       "      <th>availability_365</th>\n",
       "    </tr>\n",
       "  </thead>\n",
       "  <tbody>\n",
       "    <tr>\n",
       "      <th>count</th>\n",
       "      <td>48895.000000</td>\n",
       "      <td>48895.000000</td>\n",
       "      <td>48895.000000</td>\n",
       "      <td>48895.000000</td>\n",
       "      <td>48895.000000</td>\n",
       "      <td>48895.000000</td>\n",
       "      <td>48895.000000</td>\n",
       "      <td>48895.000000</td>\n",
       "    </tr>\n",
       "    <tr>\n",
       "      <th>mean</th>\n",
       "      <td>40.728949</td>\n",
       "      <td>-73.952170</td>\n",
       "      <td>152.720687</td>\n",
       "      <td>7.029962</td>\n",
       "      <td>23.274466</td>\n",
       "      <td>1.090910</td>\n",
       "      <td>7.143982</td>\n",
       "      <td>112.781327</td>\n",
       "    </tr>\n",
       "    <tr>\n",
       "      <th>std</th>\n",
       "      <td>0.054530</td>\n",
       "      <td>0.046157</td>\n",
       "      <td>240.154170</td>\n",
       "      <td>20.510550</td>\n",
       "      <td>44.550582</td>\n",
       "      <td>1.597283</td>\n",
       "      <td>32.952519</td>\n",
       "      <td>131.622289</td>\n",
       "    </tr>\n",
       "    <tr>\n",
       "      <th>min</th>\n",
       "      <td>40.499790</td>\n",
       "      <td>-74.244420</td>\n",
       "      <td>0.000000</td>\n",
       "      <td>1.000000</td>\n",
       "      <td>0.000000</td>\n",
       "      <td>0.000000</td>\n",
       "      <td>1.000000</td>\n",
       "      <td>0.000000</td>\n",
       "    </tr>\n",
       "    <tr>\n",
       "      <th>25%</th>\n",
       "      <td>40.690100</td>\n",
       "      <td>-73.983070</td>\n",
       "      <td>69.000000</td>\n",
       "      <td>1.000000</td>\n",
       "      <td>1.000000</td>\n",
       "      <td>0.040000</td>\n",
       "      <td>1.000000</td>\n",
       "      <td>0.000000</td>\n",
       "    </tr>\n",
       "    <tr>\n",
       "      <th>50%</th>\n",
       "      <td>40.723070</td>\n",
       "      <td>-73.955680</td>\n",
       "      <td>106.000000</td>\n",
       "      <td>3.000000</td>\n",
       "      <td>5.000000</td>\n",
       "      <td>0.370000</td>\n",
       "      <td>1.000000</td>\n",
       "      <td>45.000000</td>\n",
       "    </tr>\n",
       "    <tr>\n",
       "      <th>75%</th>\n",
       "      <td>40.763115</td>\n",
       "      <td>-73.936275</td>\n",
       "      <td>175.000000</td>\n",
       "      <td>5.000000</td>\n",
       "      <td>24.000000</td>\n",
       "      <td>1.580000</td>\n",
       "      <td>2.000000</td>\n",
       "      <td>227.000000</td>\n",
       "    </tr>\n",
       "    <tr>\n",
       "      <th>max</th>\n",
       "      <td>40.913060</td>\n",
       "      <td>-73.712990</td>\n",
       "      <td>10000.000000</td>\n",
       "      <td>1250.000000</td>\n",
       "      <td>629.000000</td>\n",
       "      <td>58.500000</td>\n",
       "      <td>327.000000</td>\n",
       "      <td>365.000000</td>\n",
       "    </tr>\n",
       "  </tbody>\n",
       "</table>\n",
       "</div>"
      ],
      "text/plain": [
       "           latitude     longitude         price  minimum_nights  \\\n",
       "count  48895.000000  48895.000000  48895.000000    48895.000000   \n",
       "mean      40.728949    -73.952170    152.720687        7.029962   \n",
       "std        0.054530      0.046157    240.154170       20.510550   \n",
       "min       40.499790    -74.244420      0.000000        1.000000   \n",
       "25%       40.690100    -73.983070     69.000000        1.000000   \n",
       "50%       40.723070    -73.955680    106.000000        3.000000   \n",
       "75%       40.763115    -73.936275    175.000000        5.000000   \n",
       "max       40.913060    -73.712990  10000.000000     1250.000000   \n",
       "\n",
       "       number_of_reviews  reviews_per_month  calculated_host_listings_count  \\\n",
       "count       48895.000000       48895.000000                    48895.000000   \n",
       "mean           23.274466           1.090910                        7.143982   \n",
       "std            44.550582           1.597283                       32.952519   \n",
       "min             0.000000           0.000000                        1.000000   \n",
       "25%             1.000000           0.040000                        1.000000   \n",
       "50%             5.000000           0.370000                        1.000000   \n",
       "75%            24.000000           1.580000                        2.000000   \n",
       "max           629.000000          58.500000                      327.000000   \n",
       "\n",
       "       availability_365  \n",
       "count      48895.000000  \n",
       "mean         112.781327  \n",
       "std          131.622289  \n",
       "min            0.000000  \n",
       "25%            0.000000  \n",
       "50%           45.000000  \n",
       "75%          227.000000  \n",
       "max          365.000000  "
      ]
     },
     "execution_count": 11,
     "metadata": {},
     "output_type": "execute_result"
    }
   ],
   "source": [
    "df_numeric=df.copy()\n",
    "df_numeric-df.drop(['neighbourhood_group', 'room_type', 'price'], axis=1)\n",
    "\n",
    "df_numeric.describe()"
   ]
  },
  {
   "cell_type": "markdown",
   "id": "1c88ec3a",
   "metadata": {
    "papermill": {
     "duration": 0.039371,
     "end_time": "2021-11-22T19:32:01.697246",
     "exception": false,
     "start_time": "2021-11-22T19:32:01.657875",
     "status": "completed"
    },
    "tags": []
   },
   "source": [
    "## Correlation Calculation"
   ]
  },
  {
   "cell_type": "code",
   "execution_count": 12,
   "id": "97a76cac",
   "metadata": {
    "execution": {
     "iopub.execute_input": "2021-11-22T19:32:01.781871Z",
     "iopub.status.busy": "2021-11-22T19:32:01.781202Z",
     "iopub.status.idle": "2021-11-22T19:32:01.806488Z",
     "shell.execute_reply": "2021-11-22T19:32:01.806930Z",
     "shell.execute_reply.started": "2021-11-22T12:20:21.138270Z"
    },
    "papermill": {
     "duration": 0.06922,
     "end_time": "2021-11-22T19:32:01.807104",
     "exception": false,
     "start_time": "2021-11-22T19:32:01.737884",
     "status": "completed"
    },
    "tags": []
   },
   "outputs": [
    {
     "data": {
      "text/html": [
       "<div>\n",
       "<style scoped>\n",
       "    .dataframe tbody tr th:only-of-type {\n",
       "        vertical-align: middle;\n",
       "    }\n",
       "\n",
       "    .dataframe tbody tr th {\n",
       "        vertical-align: top;\n",
       "    }\n",
       "\n",
       "    .dataframe thead th {\n",
       "        text-align: right;\n",
       "    }\n",
       "</style>\n",
       "<table border=\"1\" class=\"dataframe\">\n",
       "  <thead>\n",
       "    <tr style=\"text-align: right;\">\n",
       "      <th></th>\n",
       "      <th>latitude</th>\n",
       "      <th>longitude</th>\n",
       "      <th>price</th>\n",
       "      <th>minimum_nights</th>\n",
       "      <th>number_of_reviews</th>\n",
       "      <th>reviews_per_month</th>\n",
       "      <th>calculated_host_listings_count</th>\n",
       "      <th>availability_365</th>\n",
       "    </tr>\n",
       "  </thead>\n",
       "  <tbody>\n",
       "    <tr>\n",
       "      <th>latitude</th>\n",
       "      <td>1.000000</td>\n",
       "      <td>0.084788</td>\n",
       "      <td>0.033939</td>\n",
       "      <td>0.024869</td>\n",
       "      <td>-0.015389</td>\n",
       "      <td>-0.018758</td>\n",
       "      <td>0.019517</td>\n",
       "      <td>-0.010983</td>\n",
       "    </tr>\n",
       "    <tr>\n",
       "      <th>longitude</th>\n",
       "      <td>0.084788</td>\n",
       "      <td>1.000000</td>\n",
       "      <td>-0.150019</td>\n",
       "      <td>-0.062747</td>\n",
       "      <td>0.059094</td>\n",
       "      <td>0.138516</td>\n",
       "      <td>-0.114713</td>\n",
       "      <td>0.082731</td>\n",
       "    </tr>\n",
       "    <tr>\n",
       "      <th>price</th>\n",
       "      <td>0.033939</td>\n",
       "      <td>-0.150019</td>\n",
       "      <td>1.000000</td>\n",
       "      <td>0.042799</td>\n",
       "      <td>-0.047954</td>\n",
       "      <td>-0.050564</td>\n",
       "      <td>0.057472</td>\n",
       "      <td>0.081829</td>\n",
       "    </tr>\n",
       "    <tr>\n",
       "      <th>minimum_nights</th>\n",
       "      <td>0.024869</td>\n",
       "      <td>-0.062747</td>\n",
       "      <td>0.042799</td>\n",
       "      <td>1.000000</td>\n",
       "      <td>-0.080116</td>\n",
       "      <td>-0.124905</td>\n",
       "      <td>0.127960</td>\n",
       "      <td>0.144303</td>\n",
       "    </tr>\n",
       "    <tr>\n",
       "      <th>number_of_reviews</th>\n",
       "      <td>-0.015389</td>\n",
       "      <td>0.059094</td>\n",
       "      <td>-0.047954</td>\n",
       "      <td>-0.080116</td>\n",
       "      <td>1.000000</td>\n",
       "      <td>0.589407</td>\n",
       "      <td>-0.072376</td>\n",
       "      <td>0.172028</td>\n",
       "    </tr>\n",
       "    <tr>\n",
       "      <th>reviews_per_month</th>\n",
       "      <td>-0.018758</td>\n",
       "      <td>0.138516</td>\n",
       "      <td>-0.050564</td>\n",
       "      <td>-0.124905</td>\n",
       "      <td>0.589407</td>\n",
       "      <td>1.000000</td>\n",
       "      <td>-0.047312</td>\n",
       "      <td>0.163732</td>\n",
       "    </tr>\n",
       "    <tr>\n",
       "      <th>calculated_host_listings_count</th>\n",
       "      <td>0.019517</td>\n",
       "      <td>-0.114713</td>\n",
       "      <td>0.057472</td>\n",
       "      <td>0.127960</td>\n",
       "      <td>-0.072376</td>\n",
       "      <td>-0.047312</td>\n",
       "      <td>1.000000</td>\n",
       "      <td>0.225701</td>\n",
       "    </tr>\n",
       "    <tr>\n",
       "      <th>availability_365</th>\n",
       "      <td>-0.010983</td>\n",
       "      <td>0.082731</td>\n",
       "      <td>0.081829</td>\n",
       "      <td>0.144303</td>\n",
       "      <td>0.172028</td>\n",
       "      <td>0.163732</td>\n",
       "      <td>0.225701</td>\n",
       "      <td>1.000000</td>\n",
       "    </tr>\n",
       "  </tbody>\n",
       "</table>\n",
       "</div>"
      ],
      "text/plain": [
       "                                latitude  longitude     price  minimum_nights  \\\n",
       "latitude                        1.000000   0.084788  0.033939        0.024869   \n",
       "longitude                       0.084788   1.000000 -0.150019       -0.062747   \n",
       "price                           0.033939  -0.150019  1.000000        0.042799   \n",
       "minimum_nights                  0.024869  -0.062747  0.042799        1.000000   \n",
       "number_of_reviews              -0.015389   0.059094 -0.047954       -0.080116   \n",
       "reviews_per_month              -0.018758   0.138516 -0.050564       -0.124905   \n",
       "calculated_host_listings_count  0.019517  -0.114713  0.057472        0.127960   \n",
       "availability_365               -0.010983   0.082731  0.081829        0.144303   \n",
       "\n",
       "                                number_of_reviews  reviews_per_month  \\\n",
       "latitude                                -0.015389          -0.018758   \n",
       "longitude                                0.059094           0.138516   \n",
       "price                                   -0.047954          -0.050564   \n",
       "minimum_nights                          -0.080116          -0.124905   \n",
       "number_of_reviews                        1.000000           0.589407   \n",
       "reviews_per_month                        0.589407           1.000000   \n",
       "calculated_host_listings_count          -0.072376          -0.047312   \n",
       "availability_365                         0.172028           0.163732   \n",
       "\n",
       "                                calculated_host_listings_count  \\\n",
       "latitude                                              0.019517   \n",
       "longitude                                            -0.114713   \n",
       "price                                                 0.057472   \n",
       "minimum_nights                                        0.127960   \n",
       "number_of_reviews                                    -0.072376   \n",
       "reviews_per_month                                    -0.047312   \n",
       "calculated_host_listings_count                        1.000000   \n",
       "availability_365                                      0.225701   \n",
       "\n",
       "                                availability_365  \n",
       "latitude                               -0.010983  \n",
       "longitude                               0.082731  \n",
       "price                                   0.081829  \n",
       "minimum_nights                          0.144303  \n",
       "number_of_reviews                       0.172028  \n",
       "reviews_per_month                       0.163732  \n",
       "calculated_host_listings_count          0.225701  \n",
       "availability_365                        1.000000  "
      ]
     },
     "execution_count": 12,
     "metadata": {},
     "output_type": "execute_result"
    }
   ],
   "source": [
    "df_numeric.corr()"
   ]
  },
  {
   "cell_type": "code",
   "execution_count": 13,
   "id": "203f01a5",
   "metadata": {
    "execution": {
     "iopub.execute_input": "2021-11-22T19:32:01.894483Z",
     "iopub.status.busy": "2021-11-22T19:32:01.890037Z",
     "iopub.status.idle": "2021-11-22T19:32:02.655429Z",
     "shell.execute_reply": "2021-11-22T19:32:02.655888Z",
     "shell.execute_reply.started": "2021-11-22T12:20:21.167858Z"
    },
    "papermill": {
     "duration": 0.808919,
     "end_time": "2021-11-22T19:32:02.656065",
     "exception": false,
     "start_time": "2021-11-22T19:32:01.847146",
     "status": "completed"
    },
    "tags": []
   },
   "outputs": [
    {
     "data": {
      "image/png": "[encoded data removed]",
      "text/plain": [
       "<Figure size 1080x720 with 2 Axes>"
      ]
     },
     "metadata": {
      "needs_background": "light"
     },
     "output_type": "display_data"
    }
   ],
   "source": [
    "plt.figure(figsize=(15,10))\n",
    "\n",
    "sns.heatmap(df_numeric.corr(), annot=True, linewidths=.5, cmap='Greens_r')\n",
    "\n",
    "plt.title(\"Heatmap showing Correlations between numerical data\")\n",
    "\n",
    "plt.show()"
   ]
  },
  {
   "cell_type": "markdown",
   "id": "17c3fe88",
   "metadata": {
    "papermill": {
     "duration": 0.041694,
     "end_time": "2021-11-22T19:32:02.739741",
     "exception": false,
     "start_time": "2021-11-22T19:32:02.698047",
     "status": "completed"
    },
    "tags": []
   },
   "source": [
    "## Answer no 2: \n",
    "Highest correlation is between the reviews_per_month and the number_of_reviews"
   ]
  },
  {
   "cell_type": "markdown",
   "id": "53d62d03",
   "metadata": {
    "papermill": {
     "duration": 0.041706,
     "end_time": "2021-11-22T19:32:02.823261",
     "exception": false,
     "start_time": "2021-11-22T19:32:02.781555",
     "status": "completed"
    },
    "tags": []
   },
   "source": [
    "## Make price binary\n",
    "* We need to turn the price variable from numeric into binary.\n",
    "* Let's create a variable `above_average` which is 1 if the price is above (or equal to) `152`."
   ]
  },
  {
   "cell_type": "code",
   "execution_count": 14,
   "id": "d13e199d",
   "metadata": {
    "execution": {
     "iopub.execute_input": "2021-11-22T19:32:02.909567Z",
     "iopub.status.busy": "2021-11-22T19:32:02.908940Z",
     "iopub.status.idle": "2021-11-22T19:32:02.915767Z",
     "shell.execute_reply": "2021-11-22T19:32:02.916300Z",
     "shell.execute_reply.started": "2021-11-22T12:20:21.834595Z"
    },
    "papermill": {
     "duration": 0.051534,
     "end_time": "2021-11-22T19:32:02.916478",
     "exception": false,
     "start_time": "2021-11-22T19:32:02.864944",
     "status": "completed"
    },
    "tags": []
   },
   "outputs": [
    {
     "data": {
      "text/plain": [
       "152.7206871868289"
      ]
     },
     "execution_count": 14,
     "metadata": {},
     "output_type": "execute_result"
    }
   ],
   "source": [
    "data=df.copy()\n",
    "mean=data['price'].mean()\n",
    "mean"
   ]
  },
  {
   "cell_type": "code",
   "execution_count": 15,
   "id": "e474069a",
   "metadata": {
    "execution": {
     "iopub.execute_input": "2021-11-22T19:32:03.003501Z",
     "iopub.status.busy": "2021-11-22T19:32:03.002916Z",
     "iopub.status.idle": "2021-11-22T19:32:03.017440Z",
     "shell.execute_reply": "2021-11-22T19:32:03.018002Z",
     "shell.execute_reply.started": "2021-11-22T12:20:21.843311Z"
    },
    "papermill": {
     "duration": 0.059391,
     "end_time": "2021-11-22T19:32:03.018179",
     "exception": false,
     "start_time": "2021-11-22T19:32:02.958788",
     "status": "completed"
    },
    "tags": []
   },
   "outputs": [
    {
     "data": {
      "text/html": [
       "<div>\n",
       "<style scoped>\n",
       "    .dataframe tbody tr th:only-of-type {\n",
       "        vertical-align: middle;\n",
       "    }\n",
       "\n",
       "    .dataframe tbody tr th {\n",
       "        vertical-align: top;\n",
       "    }\n",
       "\n",
       "    .dataframe thead th {\n",
       "        text-align: right;\n",
       "    }\n",
       "</style>\n",
       "<table border=\"1\" class=\"dataframe\">\n",
       "  <thead>\n",
       "    <tr style=\"text-align: right;\">\n",
       "      <th></th>\n",
       "      <th>neighbourhood_group</th>\n",
       "      <th>latitude</th>\n",
       "      <th>longitude</th>\n",
       "      <th>room_type</th>\n",
       "      <th>price</th>\n",
       "      <th>minimum_nights</th>\n",
       "      <th>number_of_reviews</th>\n",
       "      <th>reviews_per_month</th>\n",
       "      <th>calculated_host_listings_count</th>\n",
       "      <th>availability_365</th>\n",
       "      <th>above_average</th>\n",
       "    </tr>\n",
       "  </thead>\n",
       "  <tbody>\n",
       "    <tr>\n",
       "      <th>0</th>\n",
       "      <td>Brooklyn</td>\n",
       "      <td>40.64749</td>\n",
       "      <td>-73.97237</td>\n",
       "      <td>Private room</td>\n",
       "      <td>149</td>\n",
       "      <td>1</td>\n",
       "      <td>9</td>\n",
       "      <td>0.21</td>\n",
       "      <td>6</td>\n",
       "      <td>365</td>\n",
       "      <td>0</td>\n",
       "    </tr>\n",
       "    <tr>\n",
       "      <th>1</th>\n",
       "      <td>Manhattan</td>\n",
       "      <td>40.75362</td>\n",
       "      <td>-73.98377</td>\n",
       "      <td>Entire home/apt</td>\n",
       "      <td>225</td>\n",
       "      <td>1</td>\n",
       "      <td>45</td>\n",
       "      <td>0.38</td>\n",
       "      <td>2</td>\n",
       "      <td>355</td>\n",
       "      <td>1</td>\n",
       "    </tr>\n",
       "    <tr>\n",
       "      <th>2</th>\n",
       "      <td>Manhattan</td>\n",
       "      <td>40.80902</td>\n",
       "      <td>-73.94190</td>\n",
       "      <td>Private room</td>\n",
       "      <td>150</td>\n",
       "      <td>3</td>\n",
       "      <td>0</td>\n",
       "      <td>0.00</td>\n",
       "      <td>1</td>\n",
       "      <td>365</td>\n",
       "      <td>0</td>\n",
       "    </tr>\n",
       "    <tr>\n",
       "      <th>3</th>\n",
       "      <td>Brooklyn</td>\n",
       "      <td>40.68514</td>\n",
       "      <td>-73.95976</td>\n",
       "      <td>Entire home/apt</td>\n",
       "      <td>89</td>\n",
       "      <td>1</td>\n",
       "      <td>270</td>\n",
       "      <td>4.64</td>\n",
       "      <td>1</td>\n",
       "      <td>194</td>\n",
       "      <td>0</td>\n",
       "    </tr>\n",
       "    <tr>\n",
       "      <th>4</th>\n",
       "      <td>Manhattan</td>\n",
       "      <td>40.79851</td>\n",
       "      <td>-73.94399</td>\n",
       "      <td>Entire home/apt</td>\n",
       "      <td>80</td>\n",
       "      <td>10</td>\n",
       "      <td>9</td>\n",
       "      <td>0.10</td>\n",
       "      <td>1</td>\n",
       "      <td>0</td>\n",
       "      <td>0</td>\n",
       "    </tr>\n",
       "  </tbody>\n",
       "</table>\n",
       "</div>"
      ],
      "text/plain": [
       "  neighbourhood_group  latitude  longitude        room_type  price  \\\n",
       "0            Brooklyn  40.64749  -73.97237     Private room    149   \n",
       "1           Manhattan  40.75362  -73.98377  Entire home/apt    225   \n",
       "2           Manhattan  40.80902  -73.94190     Private room    150   \n",
       "3            Brooklyn  40.68514  -73.95976  Entire home/apt     89   \n",
       "4           Manhattan  40.79851  -73.94399  Entire home/apt     80   \n",
       "\n",
       "   minimum_nights  number_of_reviews  reviews_per_month  \\\n",
       "0               1                  9               0.21   \n",
       "1               1                 45               0.38   \n",
       "2               3                  0               0.00   \n",
       "3               1                270               4.64   \n",
       "4              10                  9               0.10   \n",
       "\n",
       "   calculated_host_listings_count  availability_365  above_average  \n",
       "0                               6               365              0  \n",
       "1                               2               355              1  \n",
       "2                               1               365              0  \n",
       "3                               1               194              0  \n",
       "4                               1                 0              0  "
      ]
     },
     "execution_count": 15,
     "metadata": {},
     "output_type": "execute_result"
    }
   ],
   "source": [
    "data['above_average']=np.where(data['price']>=mean,1,0)\n",
    "data.head()"
   ]
  },
  {
   "cell_type": "code",
   "execution_count": 16,
   "id": "6796ec17",
   "metadata": {
    "execution": {
     "iopub.execute_input": "2021-11-22T19:32:03.109319Z",
     "iopub.status.busy": "2021-11-22T19:32:03.108623Z",
     "iopub.status.idle": "2021-11-22T19:32:03.118994Z",
     "shell.execute_reply": "2021-11-22T19:32:03.118313Z",
     "shell.execute_reply.started": "2021-11-22T12:20:21.869578Z"
    },
    "papermill": {
     "duration": 0.058736,
     "end_time": "2021-11-22T19:32:03.119139",
     "exception": false,
     "start_time": "2021-11-22T19:32:03.060403",
     "status": "completed"
    },
    "tags": []
   },
   "outputs": [],
   "source": [
    "data=data.drop('price', axis=1)"
   ]
  },
  {
   "cell_type": "code",
   "execution_count": 17,
   "id": "4e3631c4",
   "metadata": {
    "execution": {
     "iopub.execute_input": "2021-11-22T19:32:03.208217Z",
     "iopub.status.busy": "2021-11-22T19:32:03.207481Z",
     "iopub.status.idle": "2021-11-22T19:32:03.370996Z",
     "shell.execute_reply": "2021-11-22T19:32:03.371482Z",
     "shell.execute_reply.started": "2021-11-22T12:20:21.879005Z"
    },
    "papermill": {
     "duration": 0.209856,
     "end_time": "2021-11-22T19:32:03.371692",
     "exception": false,
     "start_time": "2021-11-22T19:32:03.161836",
     "status": "completed"
    },
    "tags": []
   },
   "outputs": [],
   "source": [
    "from sklearn.model_selection import train_test_split"
   ]
  },
  {
   "cell_type": "code",
   "execution_count": 18,
   "id": "164bbaf7",
   "metadata": {
    "execution": {
     "iopub.execute_input": "2021-11-22T19:32:03.459612Z",
     "iopub.status.busy": "2021-11-22T19:32:03.458999Z",
     "iopub.status.idle": "2021-11-22T19:32:03.471845Z",
     "shell.execute_reply": "2021-11-22T19:32:03.472375Z",
     "shell.execute_reply.started": "2021-11-22T12:20:21.889706Z"
    },
    "papermill": {
     "duration": 0.058766,
     "end_time": "2021-11-22T19:32:03.472542",
     "exception": false,
     "start_time": "2021-11-22T19:32:03.413776",
     "status": "completed"
    },
    "tags": []
   },
   "outputs": [],
   "source": [
    "df_full_train, df_test=train_test_split(data,test_size=0.2, random_state=42)"
   ]
  },
  {
   "cell_type": "code",
   "execution_count": 19,
   "id": "3ec5227f",
   "metadata": {
    "execution": {
     "iopub.execute_input": "2021-11-22T19:32:03.562925Z",
     "iopub.status.busy": "2021-11-22T19:32:03.561934Z",
     "iopub.status.idle": "2021-11-22T19:32:03.574497Z",
     "shell.execute_reply": "2021-11-22T19:32:03.575004Z",
     "shell.execute_reply.started": "2021-11-22T12:20:21.915060Z"
    },
    "papermill": {
     "duration": 0.059948,
     "end_time": "2021-11-22T19:32:03.575206",
     "exception": false,
     "start_time": "2021-11-22T19:32:03.515258",
     "status": "completed"
    },
    "tags": []
   },
   "outputs": [],
   "source": [
    "df_train, df_val=train_test_split(df_full_train,test_size=0.25, random_state=42)"
   ]
  },
  {
   "cell_type": "code",
   "execution_count": 20,
   "id": "dff760e2",
   "metadata": {
    "execution": {
     "iopub.execute_input": "2021-11-22T19:32:03.666955Z",
     "iopub.status.busy": "2021-11-22T19:32:03.665854Z",
     "iopub.status.idle": "2021-11-22T19:32:03.670544Z",
     "shell.execute_reply": "2021-11-22T19:32:03.671113Z",
     "shell.execute_reply.started": "2021-11-22T12:20:21.929195Z"
    },
    "papermill": {
     "duration": 0.0539,
     "end_time": "2021-11-22T19:32:03.671285",
     "exception": false,
     "start_time": "2021-11-22T19:32:03.617385",
     "status": "completed"
    },
    "tags": []
   },
   "outputs": [],
   "source": [
    "df_train=df_train.reset_index(drop=True)\n",
    "df_val=df_val.reset_index(drop=True)\n",
    "df_test=df_test.reset_index(drop=True)"
   ]
  },
  {
   "cell_type": "markdown",
   "id": "19c54c75",
   "metadata": {
    "papermill": {
     "duration": 0.042968,
     "end_time": "2021-11-22T19:32:03.756366",
     "exception": false,
     "start_time": "2021-11-22T19:32:03.713398",
     "status": "completed"
    },
    "tags": []
   },
   "source": []
  },
  {
   "cell_type": "code",
   "execution_count": 21,
   "id": "1a663cb8",
   "metadata": {
    "execution": {
     "iopub.execute_input": "2021-11-22T19:32:03.845372Z",
     "iopub.status.busy": "2021-11-22T19:32:03.844382Z",
     "iopub.status.idle": "2021-11-22T19:32:03.849372Z",
     "shell.execute_reply": "2021-11-22T19:32:03.849964Z",
     "shell.execute_reply.started": "2021-11-22T12:20:21.938839Z"
    },
    "papermill": {
     "duration": 0.050747,
     "end_time": "2021-11-22T19:32:03.850141",
     "exception": false,
     "start_time": "2021-11-22T19:32:03.799394",
     "status": "completed"
    },
    "tags": []
   },
   "outputs": [],
   "source": [
    "# Target variable\n",
    "y_train=df_train.above_average.values\n",
    "y_val=df_val.above_average.values\n",
    "y_test=df_test.above_average.values"
   ]
  },
  {
   "cell_type": "markdown",
   "id": "fec40bef",
   "metadata": {
    "papermill": {
     "duration": 0.042011,
     "end_time": "2021-11-22T19:32:03.934861",
     "exception": false,
     "start_time": "2021-11-22T19:32:03.892850",
     "status": "completed"
    },
    "tags": []
   },
   "source": [
    "## Question 3\n",
    "* Calculate the mutual information score with the (binarized) price for the two categorical variables that we have. Use the training set only.\n",
    "* Which of these two variables has bigger score?\n",
    "* Round it to 2 decimal digits using `round(score, 2)`"
   ]
  },
  {
   "cell_type": "code",
   "execution_count": 22,
   "id": "45de978e",
   "metadata": {
    "execution": {
     "iopub.execute_input": "2021-11-22T19:32:04.024151Z",
     "iopub.status.busy": "2021-11-22T19:32:04.023196Z",
     "iopub.status.idle": "2021-11-22T19:32:04.027180Z",
     "shell.execute_reply": "2021-11-22T19:32:04.027713Z",
     "shell.execute_reply.started": "2021-11-22T12:20:21.948906Z"
    },
    "papermill": {
     "duration": 0.051046,
     "end_time": "2021-11-22T19:32:04.027885",
     "exception": false,
     "start_time": "2021-11-22T19:32:03.976839",
     "status": "completed"
    },
    "tags": []
   },
   "outputs": [],
   "source": [
    "from sklearn.metrics import mutual_info_score"
   ]
  },
  {
   "cell_type": "code",
   "execution_count": 23,
   "id": "6a28def5",
   "metadata": {
    "execution": {
     "iopub.execute_input": "2021-11-22T19:32:04.116759Z",
     "iopub.status.busy": "2021-11-22T19:32:04.115756Z",
     "iopub.status.idle": "2021-11-22T19:32:04.120552Z",
     "shell.execute_reply": "2021-11-22T19:32:04.120067Z",
     "shell.execute_reply.started": "2021-11-22T12:20:21.964710Z"
    },
    "papermill": {
     "duration": 0.049852,
     "end_time": "2021-11-22T19:32:04.120718",
     "exception": false,
     "start_time": "2021-11-22T19:32:04.070866",
     "status": "completed"
    },
    "tags": []
   },
   "outputs": [],
   "source": [
    "categorical=['neighbourhood_group','room_type']"
   ]
  },
  {
   "cell_type": "code",
   "execution_count": 24,
   "id": "235baf68",
   "metadata": {
    "execution": {
     "iopub.execute_input": "2021-11-22T19:32:04.212422Z",
     "iopub.status.busy": "2021-11-22T19:32:04.211473Z",
     "iopub.status.idle": "2021-11-22T19:32:04.267155Z",
     "shell.execute_reply": "2021-11-22T19:32:04.267681Z",
     "shell.execute_reply.started": "2021-11-22T12:20:21.974240Z"
    },
    "papermill": {
     "duration": 0.104534,
     "end_time": "2021-11-22T19:32:04.267855",
     "exception": false,
     "start_time": "2021-11-22T19:32:04.163321",
     "status": "completed"
    },
    "tags": []
   },
   "outputs": [],
   "source": [
    "def calculate_mi(series):\n",
    "    return round(mutual_info_score(series, df_train.above_average),2)\n",
    "\n",
    "df_mi=df_train[categorical].apply(calculate_mi)\n",
    "\n",
    "df_mi=df_mi.sort_values(ascending=False).to_frame(name='MI')"
   ]
  },
  {
   "cell_type": "code",
   "execution_count": 25,
   "id": "59f644ee",
   "metadata": {
    "execution": {
     "iopub.execute_input": "2021-11-22T19:32:04.354926Z",
     "iopub.status.busy": "2021-11-22T19:32:04.354320Z",
     "iopub.status.idle": "2021-11-22T19:32:04.362798Z",
     "shell.execute_reply": "2021-11-22T19:32:04.362273Z",
     "shell.execute_reply.started": "2021-11-22T12:20:22.067270Z"
    },
    "papermill": {
     "duration": 0.053089,
     "end_time": "2021-11-22T19:32:04.362939",
     "exception": false,
     "start_time": "2021-11-22T19:32:04.309850",
     "status": "completed"
    },
    "tags": []
   },
   "outputs": [],
   "source": [
    "# dropping the target variable from the dataframes\n",
    "df_train=df_train.drop('above_average', axis=1)\n",
    "df_val=df_val.drop('above_average', axis=1)\n",
    "df_test=df_test.drop('above_average', axis=1)"
   ]
  },
  {
   "cell_type": "markdown",
   "id": "5177dc72",
   "metadata": {
    "papermill": {
     "duration": 0.041849,
     "end_time": "2021-11-22T19:32:04.447286",
     "exception": false,
     "start_time": "2021-11-22T19:32:04.405437",
     "status": "completed"
    },
    "tags": []
   },
   "source": [
    "### Answer for Question 3; Room Type"
   ]
  },
  {
   "cell_type": "code",
   "execution_count": 26,
   "id": "daa1f7f9",
   "metadata": {
    "execution": {
     "iopub.execute_input": "2021-11-22T19:32:04.540843Z",
     "iopub.status.busy": "2021-11-22T19:32:04.540184Z",
     "iopub.status.idle": "2021-11-22T19:32:04.542597Z",
     "shell.execute_reply": "2021-11-22T19:32:04.543065Z",
     "shell.execute_reply.started": "2021-11-22T12:20:22.079311Z"
    },
    "papermill": {
     "duration": 0.05403,
     "end_time": "2021-11-22T19:32:04.543234",
     "exception": false,
     "start_time": "2021-11-22T19:32:04.489204",
     "status": "completed"
    },
    "tags": []
   },
   "outputs": [
    {
     "data": {
      "text/html": [
       "<div>\n",
       "<style scoped>\n",
       "    .dataframe tbody tr th:only-of-type {\n",
       "        vertical-align: middle;\n",
       "    }\n",
       "\n",
       "    .dataframe tbody tr th {\n",
       "        vertical-align: top;\n",
       "    }\n",
       "\n",
       "    .dataframe thead th {\n",
       "        text-align: right;\n",
       "    }\n",
       "</style>\n",
       "<table border=\"1\" class=\"dataframe\">\n",
       "  <thead>\n",
       "    <tr style=\"text-align: right;\">\n",
       "      <th></th>\n",
       "      <th>MI</th>\n",
       "    </tr>\n",
       "  </thead>\n",
       "  <tbody>\n",
       "    <tr>\n",
       "      <th>room_type</th>\n",
       "      <td>0.14</td>\n",
       "    </tr>\n",
       "    <tr>\n",
       "      <th>neighbourhood_group</th>\n",
       "      <td>0.05</td>\n",
       "    </tr>\n",
       "  </tbody>\n",
       "</table>\n",
       "</div>"
      ],
      "text/plain": [
       "                       MI\n",
       "room_type            0.14\n",
       "neighbourhood_group  0.05"
      ]
     },
     "execution_count": 26,
     "metadata": {},
     "output_type": "execute_result"
    }
   ],
   "source": [
    "df_mi"
   ]
  },
  {
   "cell_type": "markdown",
   "id": "f8252276",
   "metadata": {
    "papermill": {
     "duration": 0.042161,
     "end_time": "2021-11-22T19:32:04.627736",
     "exception": false,
     "start_time": "2021-11-22T19:32:04.585575",
     "status": "completed"
    },
    "tags": []
   },
   "source": [
    "# Question 4\n",
    "* Now let's train a logistic regression\n",
    "* * Remember that we have two categorical variables in the data. Include them using one-hot encoding.\n",
    "* Fit the model on the training dataset.\n",
    "    * To make sure the results are reproducible across different versions of Scikit-Learn, fit the model with these parameters:\n",
    "    * `model = LogisticRegression(solver='lbfgs', C=1.0, random_state=42)`\n",
    "* Calculate the accuracy on the validation dataset and round it to 2 decimal digits."
   ]
  },
  {
   "cell_type": "markdown",
   "id": "0d577de9",
   "metadata": {
    "papermill": {
     "duration": 0.041987,
     "end_time": "2021-11-22T19:32:04.713540",
     "exception": false,
     "start_time": "2021-11-22T19:32:04.671553",
     "status": "completed"
    },
    "tags": []
   },
   "source": [
    "## Finding the accuracy of the classfication model"
   ]
  },
  {
   "cell_type": "code",
   "execution_count": 27,
   "id": "60dbaa23",
   "metadata": {
    "execution": {
     "iopub.execute_input": "2021-11-22T19:32:04.804305Z",
     "iopub.status.busy": "2021-11-22T19:32:04.803486Z",
     "iopub.status.idle": "2021-11-22T19:32:04.896743Z",
     "shell.execute_reply": "2021-11-22T19:32:04.897229Z",
     "shell.execute_reply.started": "2021-11-22T12:20:22.098953Z"
    },
    "papermill": {
     "duration": 0.14173,
     "end_time": "2021-11-22T19:32:04.897423",
     "exception": false,
     "start_time": "2021-11-22T19:32:04.755693",
     "status": "completed"
    },
    "tags": []
   },
   "outputs": [],
   "source": [
    "from sklearn.feature_extraction import DictVectorizer\n",
    "from sklearn.linear_model import LogisticRegression\n",
    "from sklearn.metrics import accuracy_score"
   ]
  },
  {
   "cell_type": "code",
   "execution_count": 28,
   "id": "ae0fe0a5",
   "metadata": {
    "execution": {
     "iopub.execute_input": "2021-11-22T19:32:04.988080Z",
     "iopub.status.busy": "2021-11-22T19:32:04.987380Z",
     "iopub.status.idle": "2021-11-22T19:32:04.989484Z",
     "shell.execute_reply": "2021-11-22T19:32:04.988925Z",
     "shell.execute_reply.started": "2021-11-22T12:20:22.110130Z"
    },
    "papermill": {
     "duration": 0.048985,
     "end_time": "2021-11-22T19:32:04.989613",
     "exception": false,
     "start_time": "2021-11-22T19:32:04.940628",
     "status": "completed"
    },
    "tags": []
   },
   "outputs": [],
   "source": [
    "num=['latitude','longitude','minimum_nights','number_of_reviews','reviews_per_month','calculated_host_listings_count','availability_365']"
   ]
  },
  {
   "cell_type": "code",
   "execution_count": 29,
   "id": "d4785552",
   "metadata": {
    "execution": {
     "iopub.execute_input": "2021-11-22T19:32:05.080642Z",
     "iopub.status.busy": "2021-11-22T19:32:05.080013Z",
     "iopub.status.idle": "2021-11-22T19:32:05.285299Z",
     "shell.execute_reply": "2021-11-22T19:32:05.284769Z",
     "shell.execute_reply.started": "2021-11-22T12:20:22.131694Z"
    },
    "papermill": {
     "duration": 0.252614,
     "end_time": "2021-11-22T19:32:05.285445",
     "exception": false,
     "start_time": "2021-11-22T19:32:05.032831",
     "status": "completed"
    },
    "tags": []
   },
   "outputs": [],
   "source": [
    "train_dicts=df_train[categorical+ num].to_dict(orient='records')"
   ]
  },
  {
   "cell_type": "code",
   "execution_count": 30,
   "id": "65acf1cd",
   "metadata": {
    "execution": {
     "iopub.execute_input": "2021-11-22T19:32:05.442172Z",
     "iopub.status.busy": "2021-11-22T19:32:05.405738Z",
     "iopub.status.idle": "2021-11-22T19:32:05.585984Z",
     "shell.execute_reply": "2021-11-22T19:32:05.586436Z",
     "shell.execute_reply.started": "2021-11-22T12:20:22.455980Z"
    },
    "papermill": {
     "duration": 0.257326,
     "end_time": "2021-11-22T19:32:05.586617",
     "exception": false,
     "start_time": "2021-11-22T19:32:05.329291",
     "status": "completed"
    },
    "tags": []
   },
   "outputs": [
    {
     "data": {
      "text/plain": [
       "array([[281.     ,   2.     ,  40.64438, -73.95484,   7.     ,   0.     ,\n",
       "          1.     ,   0.     ,   0.     ,   0.     ,  15.     ,   0.49   ,\n",
       "          1.     ,   0.     ,   0.     ]])"
      ]
     },
     "execution_count": 30,
     "metadata": {},
     "output_type": "execute_result"
    }
   ],
   "source": [
    "dv=DictVectorizer(sparse=False)\n",
    "\n",
    "X_train=dv.fit_transform(train_dicts)\n",
    "\n",
    "X_train[-1:]"
   ]
  },
  {
   "cell_type": "code",
   "execution_count": 31,
   "id": "2011db7b",
   "metadata": {
    "execution": {
     "iopub.execute_input": "2021-11-22T19:32:05.678340Z",
     "iopub.status.busy": "2021-11-22T19:32:05.677610Z",
     "iopub.status.idle": "2021-11-22T19:32:05.680738Z",
     "shell.execute_reply": "2021-11-22T19:32:05.680138Z",
     "shell.execute_reply.started": "2021-11-22T12:20:22.805999Z"
    },
    "papermill": {
     "duration": 0.051373,
     "end_time": "2021-11-22T19:32:05.680886",
     "exception": false,
     "start_time": "2021-11-22T19:32:05.629513",
     "status": "completed"
    },
    "tags": []
   },
   "outputs": [
    {
     "data": {
      "text/plain": [
       "['availability_365',\n",
       " 'calculated_host_listings_count',\n",
       " 'latitude',\n",
       " 'longitude',\n",
       " 'minimum_nights',\n",
       " 'neighbourhood_group=Bronx',\n",
       " 'neighbourhood_group=Brooklyn',\n",
       " 'neighbourhood_group=Manhattan',\n",
       " 'neighbourhood_group=Queens',\n",
       " 'neighbourhood_group=Staten Island',\n",
       " 'number_of_reviews',\n",
       " 'reviews_per_month',\n",
       " 'room_type=Entire home/apt',\n",
       " 'room_type=Private room',\n",
       " 'room_type=Shared room']"
      ]
     },
     "execution_count": 31,
     "metadata": {},
     "output_type": "execute_result"
    }
   ],
   "source": [
    "dv.get_feature_names()"
   ]
  },
  {
   "cell_type": "markdown",
   "id": "e10c509e",
   "metadata": {
    "papermill": {
     "duration": 0.043744,
     "end_time": "2021-11-22T19:32:05.768218",
     "exception": false,
     "start_time": "2021-11-22T19:32:05.724474",
     "status": "completed"
    },
    "tags": []
   },
   "source": [
    "## Model"
   ]
  },
  {
   "cell_type": "code",
   "execution_count": 32,
   "id": "2e05abc5",
   "metadata": {
    "execution": {
     "iopub.execute_input": "2021-11-22T19:32:05.857625Z",
     "iopub.status.busy": "2021-11-22T19:32:05.857020Z",
     "iopub.status.idle": "2021-11-22T19:32:05.860217Z",
     "shell.execute_reply": "2021-11-22T19:32:05.860635Z",
     "shell.execute_reply.started": "2021-11-22T12:20:22.813473Z"
    },
    "papermill": {
     "duration": 0.049263,
     "end_time": "2021-11-22T19:32:05.860827",
     "exception": false,
     "start_time": "2021-11-22T19:32:05.811564",
     "status": "completed"
    },
    "tags": []
   },
   "outputs": [],
   "source": [
    "model=LogisticRegression(solver='liblinear', C=1.0, random_state=42)"
   ]
  },
  {
   "cell_type": "code",
   "execution_count": 33,
   "id": "947254c9",
   "metadata": {
    "execution": {
     "iopub.execute_input": "2021-11-22T19:32:05.952876Z",
     "iopub.status.busy": "2021-11-22T19:32:05.951789Z",
     "iopub.status.idle": "2021-11-22T19:32:06.306189Z",
     "shell.execute_reply": "2021-11-22T19:32:06.305510Z",
     "shell.execute_reply.started": "2021-11-22T12:20:22.825042Z"
    },
    "papermill": {
     "duration": 0.402047,
     "end_time": "2021-11-22T19:32:06.306332",
     "exception": false,
     "start_time": "2021-11-22T19:32:05.904285",
     "status": "completed"
    },
    "tags": []
   },
   "outputs": [
    {
     "data": {
      "text/plain": [
       "LogisticRegression(random_state=42, solver='liblinear')"
      ]
     },
     "execution_count": 33,
     "metadata": {},
     "output_type": "execute_result"
    }
   ],
   "source": [
    "model.fit(X_train, y_train)"
   ]
  },
  {
   "cell_type": "code",
   "execution_count": 34,
   "id": "9353d1bc",
   "metadata": {
    "execution": {
     "iopub.execute_input": "2021-11-22T19:32:06.398993Z",
     "iopub.status.busy": "2021-11-22T19:32:06.398351Z",
     "iopub.status.idle": "2021-11-22T19:32:06.522328Z",
     "shell.execute_reply": "2021-11-22T19:32:06.523162Z",
     "shell.execute_reply.started": "2021-11-22T12:20:23.195632Z"
    },
    "papermill": {
     "duration": 0.173585,
     "end_time": "2021-11-22T19:32:06.523484",
     "exception": false,
     "start_time": "2021-11-22T19:32:06.349899",
     "status": "completed"
    },
    "tags": []
   },
   "outputs": [],
   "source": [
    "val_dict=df_val[categorical+num].to_dict(orient='records')\n",
    "\n",
    "X_val=dv.transform(val_dict)\n",
    "\n",
    "\n",
    "y_pred=model.predict(X_val)"
   ]
  },
  {
   "cell_type": "code",
   "execution_count": 35,
   "id": "0b015494",
   "metadata": {
    "execution": {
     "iopub.execute_input": "2021-11-22T19:32:06.669709Z",
     "iopub.status.busy": "2021-11-22T19:32:06.669062Z",
     "iopub.status.idle": "2021-11-22T19:32:06.674057Z",
     "shell.execute_reply": "2021-11-22T19:32:06.673556Z",
     "shell.execute_reply.started": "2021-11-22T12:20:23.421996Z"
    },
    "papermill": {
     "duration": 0.062657,
     "end_time": "2021-11-22T19:32:06.674193",
     "exception": false,
     "start_time": "2021-11-22T19:32:06.611536",
     "status": "completed"
    },
    "tags": []
   },
   "outputs": [
    {
     "name": "stdout",
     "output_type": "stream",
     "text": [
      "0.7903\n"
     ]
    }
   ],
   "source": [
    "accuracy=np.round(accuracy_score(y_val, y_pred),4)\n",
    "\n",
    "print(accuracy)"
   ]
  },
  {
   "cell_type": "markdown",
   "id": "f28b2430",
   "metadata": {
    "papermill": {
     "duration": 0.043089,
     "end_time": "2021-11-22T19:32:06.761149",
     "exception": false,
     "start_time": "2021-11-22T19:32:06.718060",
     "status": "completed"
    },
    "tags": []
   },
   "source": [
    "## Answer Q4 is : 0.79"
   ]
  },
  {
   "cell_type": "markdown",
   "id": "ae790240",
   "metadata": {
    "papermill": {
     "duration": 0.044782,
     "end_time": "2021-11-22T19:32:06.850017",
     "exception": false,
     "start_time": "2021-11-22T19:32:06.805235",
     "status": "completed"
    },
    "tags": []
   },
   "source": [
    "## Question 5\n",
    "* We have 9 features: 7 numerical features and 2 categorical.\n",
    "* Let's find the least useful one using the *feature elimination* technique.\n",
    "* Train a model with all these features (using the same parameters as in Q4).\n",
    "* Now exclude each feature from this set and train a model without it. Record the accuracy for each model.\n",
    "* For each feature, calculate the difference between the original accuracy and the accuracy without the feature.\n",
    "* Which of following feature has the smallest difference?\n",
    "    * `neighbourhood_group`\n",
    "    * `room_type`\n",
    "    * `number_of_reviews`\n",
    "    * `reviews_per_month`\n",
    "    >note: the difference doesn't have to be positive"
   ]
  },
  {
   "cell_type": "code",
   "execution_count": 36,
   "id": "52e51526",
   "metadata": {
    "execution": {
     "iopub.execute_input": "2021-11-22T19:32:06.943812Z",
     "iopub.status.busy": "2021-11-22T19:32:06.943144Z",
     "iopub.status.idle": "2021-11-22T19:32:06.946285Z",
     "shell.execute_reply": "2021-11-22T19:32:06.946839Z",
     "shell.execute_reply.started": "2021-11-22T12:20:23.437351Z"
    },
    "papermill": {
     "duration": 0.052687,
     "end_time": "2021-11-22T19:32:06.947022",
     "exception": false,
     "start_time": "2021-11-22T19:32:06.894335",
     "status": "completed"
    },
    "tags": []
   },
   "outputs": [
    {
     "data": {
      "text/plain": [
       "['neighbourhood_group',\n",
       " 'room_type',\n",
       " 'latitude',\n",
       " 'longitude',\n",
       " 'minimum_nights',\n",
       " 'number_of_reviews',\n",
       " 'reviews_per_month',\n",
       " 'calculated_host_listings_count',\n",
       " 'availability_365']"
      ]
     },
     "execution_count": 36,
     "metadata": {},
     "output_type": "execute_result"
    }
   ],
   "source": [
    "features=categorical + num\n",
    "features"
   ]
  },
  {
   "cell_type": "markdown",
   "id": "2426d62c",
   "metadata": {
    "papermill": {
     "duration": 0.043529,
     "end_time": "2021-11-22T19:32:07.034477",
     "exception": false,
     "start_time": "2021-11-22T19:32:06.990948",
     "status": "completed"
    },
    "tags": []
   },
   "source": [
    "### Feature Elimination Technique"
   ]
  },
  {
   "cell_type": "code",
   "execution_count": 37,
   "id": "d8b6fcdd",
   "metadata": {
    "execution": {
     "iopub.execute_input": "2021-11-22T19:32:07.131531Z",
     "iopub.status.busy": "2021-11-22T19:32:07.130858Z",
     "iopub.status.idle": "2021-11-22T19:32:14.385731Z",
     "shell.execute_reply": "2021-11-22T19:32:14.386543Z",
     "shell.execute_reply.started": "2021-11-22T12:20:23.452253Z"
    },
    "papermill": {
     "duration": 7.307857,
     "end_time": "2021-11-22T19:32:14.386855",
     "exception": false,
     "start_time": "2021-11-22T19:32:07.078998",
     "status": "completed"
    },
    "tags": []
   },
   "outputs": [
    {
     "name": "stdout",
     "output_type": "stream",
     "text": [
      "neighbourhood_group 0.040121 0.7502\n",
      "room_type 0.0612889 0.729\n",
      "latitude 0.0041255 0.7862\n",
      "longitude 0.0044323 0.7859\n",
      "minimum_nights -6.71e-05 0.7904\n",
      "number_of_reviews 0.0001374 0.7902\n",
      "reviews_per_month 0.0001374 0.7902\n",
      "calculated_host_listings_count 0.0012623 0.789\n",
      "availability_365 0.0094431 0.7809\n"
     ]
    }
   ],
   "source": [
    "orig_score=accuracy\n",
    "\n",
    "for c in features:\n",
    "    f_cut=features.copy()\n",
    "    f_cut.remove(c)\n",
    "    \n",
    "    train_dict=df_train[f_cut].to_dict(orient='records')\n",
    "    dv=DictVectorizer(sparse=False)\n",
    "    \n",
    "    \n",
    "    X_train=dv.fit_transform(train_dict)\n",
    "    \n",
    "    model=LogisticRegression(solver='liblinear', C=1.0, random_state=42)\n",
    "    model.fit(X_train, y_train)\n",
    "    \n",
    "    \n",
    "    val_dict=df_val[f_cut].to_dict(orient='records')\n",
    "    \n",
    "    X_val=dv.transform(val_dict)\n",
    "    \n",
    "    y_pred=model.predict(X_val)\n",
    "    \n",
    "    \n",
    "    score=accuracy_score(y_pred,y_val)\n",
    "    \n",
    "    \n",
    "    print(c, round((orig_score- score), 7),  round((score), 4))"
   ]
  },
  {
   "cell_type": "markdown",
   "id": "49f4a292",
   "metadata": {
    "papermill": {
     "duration": 0.054004,
     "end_time": "2021-11-22T19:32:14.534153",
     "exception": false,
     "start_time": "2021-11-22T19:32:14.480149",
     "status": "completed"
    },
    "tags": []
   },
   "source": [
    "### Answer 5: \"Number of Reviews\" has the smallest difference"
   ]
  },
  {
   "cell_type": "markdown",
   "id": "5062951a",
   "metadata": {
    "papermill": {
     "duration": 0.045676,
     "end_time": "2021-11-22T19:32:14.626648",
     "exception": false,
     "start_time": "2021-11-22T19:32:14.580972",
     "status": "completed"
    },
    "tags": []
   },
   "source": []
  },
  {
   "cell_type": "markdown",
   "id": "cf8f2585",
   "metadata": {
    "papermill": {
     "duration": 0.046891,
     "end_time": "2021-11-22T19:32:14.720464",
     "exception": false,
     "start_time": "2021-11-22T19:32:14.673573",
     "status": "completed"
    },
    "tags": []
   },
   "source": [
    "## Question 6\n",
    "* For this question, we'll see how to use a linear regression model from Scikit-Learn\n",
    "* We'll need to use the original column `'price'`. Apply the logarithmic transformation to this column.\n",
    "* Fit the Ridge regression model on the training data.\n",
    "* This model has a parameter `alpha`. Let's try the following values: `[0, 0.01, 0.1, 1, 10]`\n",
    "* Which of these alphas leads to the best RMSE on the validation set? Round your RMSE scores to 3 decimal digits.\n",
    "If there are multiple options, select the smallest `alpha`."
   ]
  },
  {
   "cell_type": "code",
   "execution_count": 38,
   "id": "e8fa2ba1",
   "metadata": {
    "execution": {
     "iopub.execute_input": "2021-11-22T19:32:14.817353Z",
     "iopub.status.busy": "2021-11-22T19:32:14.816443Z",
     "iopub.status.idle": "2021-11-22T19:32:14.819109Z",
     "shell.execute_reply": "2021-11-22T19:32:14.818487Z",
     "shell.execute_reply.started": "2021-11-22T12:20:33.323661Z"
    },
    "papermill": {
     "duration": 0.052824,
     "end_time": "2021-11-22T19:32:14.819249",
     "exception": false,
     "start_time": "2021-11-22T19:32:14.766425",
     "status": "completed"
    },
    "tags": []
   },
   "outputs": [],
   "source": [
    "from sklearn.linear_model import Ridge\n",
    "from sklearn.metrics import mean_squared_error"
   ]
  },
  {
   "cell_type": "code",
   "execution_count": 39,
   "id": "11dd4fae",
   "metadata": {
    "execution": {
     "iopub.execute_input": "2021-11-22T19:32:14.916391Z",
     "iopub.status.busy": "2021-11-22T19:32:14.915783Z",
     "iopub.status.idle": "2021-11-22T19:32:14.919710Z",
     "shell.execute_reply": "2021-11-22T19:32:14.920208Z",
     "shell.execute_reply.started": "2021-11-22T12:20:33.331087Z"
    },
    "papermill": {
     "duration": 0.054653,
     "end_time": "2021-11-22T19:32:14.920371",
     "exception": false,
     "start_time": "2021-11-22T19:32:14.865718",
     "status": "completed"
    },
    "tags": []
   },
   "outputs": [],
   "source": [
    "df.price=np.log1p(df.price)"
   ]
  },
  {
   "cell_type": "code",
   "execution_count": 40,
   "id": "e1cd9412",
   "metadata": {
    "execution": {
     "iopub.execute_input": "2021-11-22T19:32:15.016539Z",
     "iopub.status.busy": "2021-11-22T19:32:15.015936Z",
     "iopub.status.idle": "2021-11-22T19:32:15.020611Z",
     "shell.execute_reply": "2021-11-22T19:32:15.021165Z",
     "shell.execute_reply.started": "2021-11-22T12:20:33.347051Z"
    },
    "papermill": {
     "duration": 0.05453,
     "end_time": "2021-11-22T19:32:15.021326",
     "exception": false,
     "start_time": "2021-11-22T19:32:14.966796",
     "status": "completed"
    },
    "tags": []
   },
   "outputs": [
    {
     "data": {
      "text/plain": [
       "(48895,)"
      ]
     },
     "execution_count": 40,
     "metadata": {},
     "output_type": "execute_result"
    }
   ],
   "source": [
    "df['price'].shape"
   ]
  },
  {
   "cell_type": "code",
   "execution_count": 41,
   "id": "a795a6bd",
   "metadata": {
    "execution": {
     "iopub.execute_input": "2021-11-22T19:32:15.117573Z",
     "iopub.status.busy": "2021-11-22T19:32:15.116966Z",
     "iopub.status.idle": "2021-11-22T19:32:15.128343Z",
     "shell.execute_reply": "2021-11-22T19:32:15.128857Z",
     "shell.execute_reply.started": "2021-11-22T12:20:33.360658Z"
    },
    "papermill": {
     "duration": 0.061131,
     "end_time": "2021-11-22T19:32:15.129029",
     "exception": false,
     "start_time": "2021-11-22T19:32:15.067898",
     "status": "completed"
    },
    "tags": []
   },
   "outputs": [],
   "source": [
    "df_full_train, df_test=train_test_split(df, test_size=0.2, random_state=1)"
   ]
  },
  {
   "cell_type": "code",
   "execution_count": 42,
   "id": "353d61b0",
   "metadata": {
    "execution": {
     "iopub.execute_input": "2021-11-22T19:32:15.224733Z",
     "iopub.status.busy": "2021-11-22T19:32:15.224127Z",
     "iopub.status.idle": "2021-11-22T19:32:15.233079Z",
     "shell.execute_reply": "2021-11-22T19:32:15.233548Z",
     "shell.execute_reply.started": "2021-11-22T12:20:33.388977Z"
    },
    "papermill": {
     "duration": 0.058599,
     "end_time": "2021-11-22T19:32:15.233731",
     "exception": false,
     "start_time": "2021-11-22T19:32:15.175132",
     "status": "completed"
    },
    "tags": []
   },
   "outputs": [],
   "source": [
    "df_train, df_val=train_test_split(df_full_train, test_size=0.25, random_state=11)"
   ]
  },
  {
   "cell_type": "code",
   "execution_count": 43,
   "id": "a4f30b3e",
   "metadata": {
    "execution": {
     "iopub.execute_input": "2021-11-22T19:32:15.328799Z",
     "iopub.status.busy": "2021-11-22T19:32:15.328168Z",
     "iopub.status.idle": "2021-11-22T19:32:15.333378Z",
     "shell.execute_reply": "2021-11-22T19:32:15.333892Z",
     "shell.execute_reply.started": "2021-11-22T12:20:33.409792Z"
    },
    "papermill": {
     "duration": 0.054266,
     "end_time": "2021-11-22T19:32:15.334088",
     "exception": false,
     "start_time": "2021-11-22T19:32:15.279822",
     "status": "completed"
    },
    "tags": []
   },
   "outputs": [],
   "source": [
    "df_train=df_train.reset_index(drop=True)\n",
    "df_val=df_val.reset_index(drop=True)\n",
    "\n",
    "df_test=df_test.reset_index(drop=True)\n",
    "\n"
   ]
  },
  {
   "cell_type": "code",
   "execution_count": 44,
   "id": "967bb50b",
   "metadata": {
    "execution": {
     "iopub.execute_input": "2021-11-22T19:32:15.429392Z",
     "iopub.status.busy": "2021-11-22T19:32:15.428763Z",
     "iopub.status.idle": "2021-11-22T19:32:15.433099Z",
     "shell.execute_reply": "2021-11-22T19:32:15.433687Z",
     "shell.execute_reply.started": "2021-11-22T12:20:33.421615Z"
    },
    "papermill": {
     "duration": 0.053442,
     "end_time": "2021-11-22T19:32:15.433858",
     "exception": false,
     "start_time": "2021-11-22T19:32:15.380416",
     "status": "completed"
    },
    "tags": []
   },
   "outputs": [],
   "source": [
    "y_train=df_train.price.values\n",
    "y_val=df_val.price.values\n",
    "y_test=df_test.price.values"
   ]
  },
  {
   "cell_type": "code",
   "execution_count": 45,
   "id": "3813d7c4",
   "metadata": {
    "execution": {
     "iopub.execute_input": "2021-11-22T19:32:15.557696Z",
     "iopub.status.busy": "2021-11-22T19:32:15.556718Z",
     "iopub.status.idle": "2021-11-22T19:32:15.561764Z",
     "shell.execute_reply": "2021-11-22T19:32:15.562204Z",
     "shell.execute_reply.started": "2021-11-22T12:20:33.432351Z"
    },
    "papermill": {
     "duration": 0.077343,
     "end_time": "2021-11-22T19:32:15.562375",
     "exception": false,
     "start_time": "2021-11-22T19:32:15.485032",
     "status": "completed"
    },
    "tags": []
   },
   "outputs": [
    {
     "data": {
      "text/plain": [
       "(29337,)"
      ]
     },
     "execution_count": 45,
     "metadata": {},
     "output_type": "execute_result"
    }
   ],
   "source": [
    "y_train.shape"
   ]
  },
  {
   "cell_type": "code",
   "execution_count": 46,
   "id": "5cb2482f",
   "metadata": {
    "execution": {
     "iopub.execute_input": "2021-11-22T19:32:15.668377Z",
     "iopub.status.busy": "2021-11-22T19:32:15.667474Z",
     "iopub.status.idle": "2021-11-22T19:32:15.680799Z",
     "shell.execute_reply": "2021-11-22T19:32:15.681626Z",
     "shell.execute_reply.started": "2021-11-22T12:20:33.442881Z"
    },
    "papermill": {
     "duration": 0.064628,
     "end_time": "2021-11-22T19:32:15.681868",
     "exception": false,
     "start_time": "2021-11-22T19:32:15.617240",
     "status": "completed"
    },
    "tags": []
   },
   "outputs": [
    {
     "data": {
      "text/plain": [
       "(29337, 14)"
      ]
     },
     "execution_count": 46,
     "metadata": {},
     "output_type": "execute_result"
    }
   ],
   "source": [
    "X_train.shape"
   ]
  },
  {
   "cell_type": "code",
   "execution_count": 47,
   "id": "d0bb5e98",
   "metadata": {
    "execution": {
     "iopub.execute_input": "2021-11-22T19:32:15.793995Z",
     "iopub.status.busy": "2021-11-22T19:32:15.792030Z",
     "iopub.status.idle": "2021-11-22T19:32:15.800940Z",
     "shell.execute_reply": "2021-11-22T19:32:15.799882Z",
     "shell.execute_reply.started": "2021-11-22T12:20:33.456271Z"
    },
    "papermill": {
     "duration": 0.064294,
     "end_time": "2021-11-22T19:32:15.801146",
     "exception": false,
     "start_time": "2021-11-22T19:32:15.736852",
     "status": "completed"
    },
    "tags": []
   },
   "outputs": [],
   "source": [
    "del df_train['price']\n",
    "del df_val['price']\n",
    "del df_test['price']\n"
   ]
  },
  {
   "cell_type": "markdown",
   "id": "960e8ec0",
   "metadata": {
    "papermill": {
     "duration": 0.047887,
     "end_time": "2021-11-22T19:32:15.902140",
     "exception": false,
     "start_time": "2021-11-22T19:32:15.854253",
     "status": "completed"
    },
    "tags": []
   },
   "source": [
    "# Ridge Regression"
   ]
  },
  {
   "cell_type": "code",
   "execution_count": 48,
   "id": "36921b05",
   "metadata": {
    "execution": {
     "iopub.execute_input": "2021-11-22T19:32:16.001834Z",
     "iopub.status.busy": "2021-11-22T19:32:16.001162Z",
     "iopub.status.idle": "2021-11-22T19:32:16.211999Z",
     "shell.execute_reply": "2021-11-22T19:32:16.212776Z",
     "shell.execute_reply.started": "2021-11-22T12:20:33.468082Z"
    },
    "papermill": {
     "duration": 0.263024,
     "end_time": "2021-11-22T19:32:16.213003",
     "exception": false,
     "start_time": "2021-11-22T19:32:15.949979",
     "status": "completed"
    },
    "tags": []
   },
   "outputs": [],
   "source": [
    "train_dict=df_train[categorical+num].to_dict(orient='records')"
   ]
  },
  {
   "cell_type": "code",
   "execution_count": 49,
   "id": "ec64e49c",
   "metadata": {
    "execution": {
     "iopub.execute_input": "2021-11-22T19:32:16.315906Z",
     "iopub.status.busy": "2021-11-22T19:32:16.315325Z",
     "iopub.status.idle": "2021-11-22T19:32:16.633016Z",
     "shell.execute_reply": "2021-11-22T19:32:16.632354Z",
     "shell.execute_reply.started": "2021-11-22T12:20:33.778667Z"
    },
    "papermill": {
     "duration": 0.367682,
     "end_time": "2021-11-22T19:32:16.633158",
     "exception": false,
     "start_time": "2021-11-22T19:32:16.265476",
     "status": "completed"
    },
    "tags": []
   },
   "outputs": [],
   "source": [
    "dv=DictVectorizer(sparse=False)\n",
    "\n",
    "\n",
    "\n",
    "X_train=dv.fit_transform(train_dict)\n",
    "val_dict=df_val[categorical+num].to_dict(orient='records')\n",
    "    \n",
    "X_val=dv.transform(val_dict)"
   ]
  },
  {
   "cell_type": "code",
   "execution_count": 50,
   "id": "55c6ad12",
   "metadata": {
    "execution": {
     "iopub.execute_input": "2021-11-22T19:32:16.734981Z",
     "iopub.status.busy": "2021-11-22T19:32:16.734320Z",
     "iopub.status.idle": "2021-11-22T19:32:16.820035Z",
     "shell.execute_reply": "2021-11-22T19:32:16.822509Z",
     "shell.execute_reply.started": "2021-11-22T12:20:34.306394Z"
    },
    "papermill": {
     "duration": 0.142116,
     "end_time": "2021-11-22T19:32:16.822869",
     "exception": false,
     "start_time": "2021-11-22T19:32:16.680753",
     "status": "completed"
    },
    "tags": []
   },
   "outputs": [
    {
     "name": "stdout",
     "output_type": "stream",
     "text": [
      "0 0.497\n",
      "0.01 0.496\n",
      "0.1 0.496\n",
      "1 0.496\n",
      "10 0.497\n"
     ]
    }
   ],
   "source": [
    "for a in [0, 0.01, 0.1, 1, 10]:\n",
    "    model=Ridge(alpha=a, random_state=42)\n",
    "    model.fit(X_train, y_train)\n",
    "    \n",
    "    y_pred=model.predict(X_val)\n",
    "    \n",
    "    \n",
    "    score=np.sqrt(mean_squared_error(y_val, y_pred))\n",
    "    \n",
    "    \n",
    "    print(a, round(score, 3))"
   ]
  },
  {
   "cell_type": "markdown",
   "id": "b5f9ac58",
   "metadata": {
    "papermill": {
     "duration": 0.055175,
     "end_time": "2021-11-22T19:32:16.973806",
     "exception": false,
     "start_time": "2021-11-22T19:32:16.918631",
     "status": "completed"
    },
    "tags": []
   },
   "source": [
    "## Answer is 0"
   ]
  },
  {
   "cell_type": "code",
   "execution_count": null,
   "id": "f5896b66",
   "metadata": {
    "papermill": {
     "duration": 0.047756,
     "end_time": "2021-11-22T19:32:17.068887",
     "exception": false,
     "start_time": "2021-11-22T19:32:17.021131",
     "status": "completed"
    },
    "tags": []
   },
   "outputs": [],
   "source": []
  }
 ],
 "metadata": {
  "kernelspec": {
   "display_name": "Python 3",
   "language": "python",
   "name": "python3"
  },
  "language_info": {
   "codemirror_mode": {
    "name": "ipython",
    "version": 3
   },
   "file_extension": ".py",
   "mimetype": "text/x-python",
   "name": "python",
   "nbconvert_exporter": "python",
   "pygments_lexer": "ipython3",
   "version": "3.7.10"
  },
  "papermill": {
   "default_parameters": {},
   "duration": 26.72676,
   "end_time": "2021-11-22T19:32:17.827348",
   "environment_variables": {},
   "exception": null,
   "input_path": "__notebook__.ipynb",
   "output_path": "__notebook__.ipynb",
   "parameters": {},
   "start_time": "2021-11-22T19:31:51.100588",
   "version": "2.3.3"
  }
 },
 "nbformat": 4,
 "nbformat_minor": 5
}
